{
 "cells": [
  {
   "cell_type": "markdown",
   "id": "3466493b",
   "metadata": {},
   "source": [
    "## Creating npy arrays for the labels "
   ]
  },
  {
   "cell_type": "code",
   "execution_count": 11,
   "id": "01d9573f",
   "metadata": {},
   "outputs": [],
   "source": [
    "import pandas as pd\n",
    "import numpy as np\n",
    "import os\n",
    "import re\n",
    "from tqdm import tqdm"
   ]
  },
  {
   "cell_type": "code",
   "execution_count": 19,
   "id": "5291d6de",
   "metadata": {},
   "outputs": [],
   "source": [
    "# Configuración de directorios\n",
    "BASE_DIR = '../Datasets_DeepShadows/'\n",
    "JPEG_DIRS = {\n",
    "    'train': os.path.join(BASE_DIR, 'Jpeg_data/Training/'),\n",
    "    'val': os.path.join(BASE_DIR, 'Jpeg_data/Validation/'),\n",
    "    'test': os.path.join(BASE_DIR, 'Jpeg_data/Test/')\n",
    "}"
   ]
  },
  {
   "cell_type": "code",
   "execution_count": 20,
   "id": "740d18ca",
   "metadata": {},
   "outputs": [],
   "source": [
    "LABEL_DIR = os.path.join(BASE_DIR, 'Galaxies_data/')\n",
    "os.makedirs(LABEL_DIR, exist_ok=True)\n"
   ]
  },
  {
   "cell_type": "code",
   "execution_count": 21,
   "id": "0db32a34",
   "metadata": {},
   "outputs": [],
   "source": [
    "# Archivos de referencia\n",
    "LSB_PATH = os.path.join(BASE_DIR, 'Datasets/random_LSBGs_all.csv')\n",
    "ARTIFACT_PATH = os.path.join(BASE_DIR, 'Datasets/random_negative_all_2.csv')"
   ]
  },
  {
   "cell_type": "code",
   "execution_count": 22,
   "id": "c28c77cb",
   "metadata": {},
   "outputs": [],
   "source": [
    "# Rutas a los conjuntos de datos\n",
    "DATASET_PATHS = {\n",
    "    'train': os.path.join(BASE_DIR, 'Datasets/Baseline_training.csv'),\n",
    "    'val': os.path.join(BASE_DIR, 'Datasets/Baseline_validation.csv'),\n",
    "    'test': os.path.join(BASE_DIR, 'Datasets/Baseline_test.csv')\n",
    "}"
   ]
  },
  {
   "cell_type": "code",
   "execution_count": 23,
   "id": "de95ec2a",
   "metadata": {},
   "outputs": [],
   "source": [
    "# Función para extraer coordenadas de nombres de archivo\n",
    "def parse_filename(filename):\n",
    "    \"\"\"\n",
    "    Extrae RA y DEC de nombres en formato {ra}_{dec}_{index}_256pix.jpeg\n",
    "    Ejemplo: 0.16791_-59.994767_3422_256pix.jpeg\n",
    "    \"\"\"\n",
    "    match = re.match(r'^([\\d\\.\\-]+)_([\\d\\.\\-]+)_\\d+_256pix\\.jpe?g', filename, re.IGNORECASE)\n",
    "    if match:\n",
    "        try:\n",
    "            ra = float(match.group(1))\n",
    "            dec = float(match.group(2))\n",
    "            return (ra, dec)\n",
    "        except ValueError:\n",
    "            return (None, None)\n",
    "    return (None, None)"
   ]
  },
  {
   "cell_type": "code",
   "execution_count": 24,
   "id": "7d00f1f7",
   "metadata": {},
   "outputs": [],
   "source": [
    "# Cargar los catálogos de referencia\n",
    "def load_reference_catalogs():\n",
    "    \"\"\"Carga y combina los catálogos de galaxias y artefactos\"\"\"\n",
    "    # Cargar galaxias LSB\n",
    "    lsb_df = pd.read_csv(LSB_PATH)\n",
    "    lsb_df = lsb_df[['ra', 'dec']].drop_duplicates().dropna()\n",
    "    lsb_df['label'] = 1\n",
    "    print(f\"Loaded {len(lsb_df)} LSB galaxies\")\n",
    "    \n",
    "    # Cargar artefactos (no galaxias)\n",
    "    art_df = pd.read_csv(ARTIFACT_PATH)\n",
    "    art_df = art_df[['ra', 'dec']].drop_duplicates().dropna()\n",
    "    art_df['label'] = 0\n",
    "    print(f\"Loaded {len(art_df)} artifacts\")\n",
    "    \n",
    "    # Combinar ambos catálogos\n",
    "    ref_df = pd.concat([lsb_df, art_df], ignore_index=True)\n",
    "    \n",
    "    # Verificar conflictos (mismo punto en ambos catálogos)\n",
    "    duplicates = ref_df[ref_df.duplicated(subset=['ra', 'dec'], keep=False)]\n",
    "    conflict_count = len(duplicates) // 2\n",
    "    if conflict_count > 0:\n",
    "        print(f\"Warning: Found {conflict_count} objects in both catalogs!\")\n",
    "        # Priorizar galaxias sobre artefactos\n",
    "        ref_df = ref_df.sort_values('label', ascending=False)\n",
    "        ref_df = ref_df.drop_duplicates(subset=['ra', 'dec'], keep='first')\n",
    "    \n",
    "    print(f\"Total reference objects: {len(ref_df)}\")\n",
    "    return ref_df"
   ]
  },
  {
   "cell_type": "code",
   "execution_count": 25,
   "id": "0ea18a2a",
   "metadata": {},
   "outputs": [],
   "source": [
    "# Función principal para crear etiquetas\n",
    "def create_label_arrays(ref_df):\n",
    "    \"\"\"Crea arrays de etiquetas para cada conjunto de datos\"\"\"\n",
    "    for set_name in ['train', 'val', 'test']:\n",
    "        print(f\"\\n{'='*50}\")\n",
    "        print(f\"Processing {set_name} set\")\n",
    "        print(f\"{'='*50}\")\n",
    "        \n",
    "        # Obtener nombres de archivos de imágenes\n",
    "        jpeg_dir = JPEG_DIRS[set_name]\n",
    "        image_files = [f for f in os.listdir(jpeg_dir) \n",
    "                      if f.lower().endswith(('.jpg', '.jpeg', '.png'))]\n",
    "        print(f\"Found {len(image_files)} images\")\n",
    "        \n",
    "        # Procesar cada imagen y asignar etiqueta\n",
    "        labels = []\n",
    "        missing_in_ref = []\n",
    "        \n",
    "        for filename in tqdm(image_files, desc=\"Processing images\"):\n",
    "            coords = parse_filename(filename)\n",
    "            if coords == (None, None):\n",
    "                continue\n",
    "                \n",
    "            ra, dec = coords\n",
    "            \n",
    "            # Buscar en el catálogo de referencia\n",
    "            match = ref_df[\n",
    "                (np.isclose(ref_df['ra'], ra, atol=1e-5)) & \n",
    "                (np.isclose(ref_df['dec'], dec, atol=1e-5))\n",
    "            ]\n",
    "            \n",
    "            if not match.empty:\n",
    "                # Tomar la primera coincidencia (debería ser única)\n",
    "                label = match.iloc[0]['label']\n",
    "                labels.append(label)\n",
    "            else:\n",
    "                # Guardar para reporte\n",
    "                missing_in_ref.append((filename, ra, dec))\n",
    "                labels.append(0)  # Asumir como artefacto si no está en referencia\n",
    "        \n",
    "        # Convertir a array numpy\n",
    "        labels_array = np.array(labels, dtype=np.int32)\n",
    "        \n",
    "        # Guardar\n",
    "        output_path = os.path.join(LABEL_DIR, f'y_{set_name}.npy')\n",
    "        np.save(output_path, labels_array)\n",
    "        \n",
    "        # Reportar estadísticas\n",
    "        galaxy_count = np.sum(labels_array == 1)\n",
    "        artifact_count = np.sum(labels_array == 0)\n",
    "        missing_count = len(missing_in_ref)\n",
    "        \n",
    "        print(f\"\\nSaved {len(labels_array)} labels to {output_path}\")\n",
    "        print(f\"Galaxies (LSB): {galaxy_count} ({galaxy_count/len(labels_array):.2%})\")\n",
    "        print(f\"Artifacts: {artifact_count} ({artifact_count/len(labels_array):.2%})\")\n",
    "        print(f\"Images not found in reference: {missing_count}\")\n",
    "        \n",
    "        # Guardar lista de imágenes no encontradas en referencia\n",
    "        if missing_in_ref:\n",
    "            missing_df = pd.DataFrame(missing_in_ref, columns=['filename', 'ra', 'dec'])\n",
    "            missing_csv = os.path.join(LABEL_DIR, f'missing_in_ref_{set_name}.csv')\n",
    "            missing_df.to_csv(missing_csv, index=False)\n",
    "            print(f\"Saved list of missing images to {missing_csv}\")"
   ]
  },
  {
   "cell_type": "code",
   "execution_count": 26,
   "id": "4f2a928f",
   "metadata": {},
   "outputs": [
    {
     "name": "stdout",
     "output_type": "stream",
     "text": [
      "Loading reference catalogs...\n",
      "Loaded 19995 LSB galaxies\n",
      "Loaded 20000 artifacts\n",
      "Warning: Found 779 objects in both catalogs!\n",
      "Total reference objects: 39216\n",
      "\n",
      "Generating label arrays...\n",
      "\n",
      "==================================================\n",
      "Processing train set\n",
      "==================================================\n",
      "Found 29580 images\n"
     ]
    },
    {
     "name": "stderr",
     "output_type": "stream",
     "text": [
      "Processing images: 100%|████████████████████████████████████████████████████████████████████████████████████████████████████████████████████████| 29580/29580 [00:10<00:00, 2885.03it/s]\n"
     ]
    },
    {
     "name": "stdout",
     "output_type": "stream",
     "text": [
      "\n",
      "Saved 29580 labels to ../Datasets_DeepShadows/Galaxies_data/y_train.npy\n",
      "Galaxies (LSB): 15210 (51.42%)\n",
      "Artifacts: 14370 (48.58%)\n",
      "Images not found in reference: 5\n",
      "Saved list of missing images to ../Datasets_DeepShadows/Galaxies_data/missing_in_ref_train.csv\n",
      "\n",
      "==================================================\n",
      "Processing val set\n",
      "==================================================\n",
      "Found 4990 images\n"
     ]
    },
    {
     "name": "stderr",
     "output_type": "stream",
     "text": [
      "Processing images: 100%|██████████████████████████████████████████████████████████████████████████████████████████████████████████████████████████| 4990/4990 [00:01<00:00, 3000.50it/s]\n"
     ]
    },
    {
     "name": "stdout",
     "output_type": "stream",
     "text": [
      "\n",
      "Saved 4990 labels to ../Datasets_DeepShadows/Galaxies_data/y_val.npy\n",
      "Galaxies (LSB): 2595 (52.00%)\n",
      "Artifacts: 2395 (48.00%)\n",
      "Images not found in reference: 1\n",
      "Saved list of missing images to ../Datasets_DeepShadows/Galaxies_data/missing_in_ref_val.csv\n",
      "\n",
      "==================================================\n",
      "Processing test set\n",
      "==================================================\n",
      "Found 4983 images\n"
     ]
    },
    {
     "name": "stderr",
     "output_type": "stream",
     "text": [
      "Processing images: 100%|██████████████████████████████████████████████████████████████████████████████████████████████████████████████████████████| 4983/4983 [00:01<00:00, 2916.94it/s]"
     ]
    },
    {
     "name": "stdout",
     "output_type": "stream",
     "text": [
      "\n",
      "Saved 4983 labels to ../Datasets_DeepShadows/Galaxies_data/y_test.npy\n",
      "Galaxies (LSB): 2645 (53.08%)\n",
      "Artifacts: 2338 (46.92%)\n",
      "Images not found in reference: 0\n",
      "\n",
      "All label arrays created successfully!\n"
     ]
    },
    {
     "name": "stderr",
     "output_type": "stream",
     "text": [
      "\n"
     ]
    }
   ],
   "source": [
    "# Ejecución principal\n",
    "if __name__ == \"__main__\":\n",
    "    print(\"Loading reference catalogs...\")\n",
    "    ref_df = load_reference_catalogs()\n",
    "    \n",
    "    print(\"\\nGenerating label arrays...\")\n",
    "    create_label_arrays(ref_df)\n",
    "    \n",
    "    print(\"\\nAll label arrays created successfully!\")"
   ]
  },
  {
   "cell_type": "code",
   "execution_count": null,
   "id": "53980c69",
   "metadata": {},
   "outputs": [],
   "source": []
  },
  {
   "cell_type": "code",
   "execution_count": null,
   "id": "2d10e8cd",
   "metadata": {},
   "outputs": [],
   "source": []
  },
  {
   "cell_type": "code",
   "execution_count": null,
   "id": "cffdebe6",
   "metadata": {},
   "outputs": [],
   "source": []
  }
 ],
 "metadata": {
  "kernelspec": {
   "display_name": "Python 3 (ipykernel)",
   "language": "python",
   "name": "python3"
  },
  "language_info": {
   "codemirror_mode": {
    "name": "ipython",
    "version": 3
   },
   "file_extension": ".py",
   "mimetype": "text/x-python",
   "name": "python",
   "nbconvert_exporter": "python",
   "pygments_lexer": "ipython3",
   "version": "3.12.4"
  }
 },
 "nbformat": 4,
 "nbformat_minor": 5
}
