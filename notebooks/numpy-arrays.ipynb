{
 "cells": [
  {
   "cell_type": "markdown",
   "id": "6c426d8a",
   "metadata": {},
   "source": [
    "### Numpy files for Deep Learning\n",
    "\n",
    "- Converts the images into numpy arrays."
   ]
  },
  {
   "cell_type": "code",
   "execution_count": 17,
   "id": "bf25a0fd",
   "metadata": {},
   "outputs": [],
   "source": [
    "import numpy as np\n",
    "import os\n",
    "from PIL import Image\n",
    "from tqdm import tqdm\n",
    "import concurrent.futures\n",
    "import gc"
   ]
  },
  {
   "cell_type": "code",
   "execution_count": 18,
   "id": "85e8f322",
   "metadata": {},
   "outputs": [],
   "source": [
    "# Configuración de directorios\n",
    "images_directory = '../Datasets_DeepShadows/Jpeg_data/Test/'\n",
    "output_directory = '../Datasets_DeepShadows/array_images/'\n",
    "os.makedirs(output_directory, exist_ok=True)"
   ]
  },
  {
   "cell_type": "code",
   "execution_count": 19,
   "id": "e4c86f4f",
   "metadata": {},
   "outputs": [],
   "source": [
    "# Parámetros clave (basados en tu descarga)\n",
    "ORIGINAL_PIXSCALE = 0.262  # Arcsec/pixel usado en tus descargas\n",
    "DEEP_SHADOWS_ANGULAR_SIZE = 30  # Arcsec (tamaño angular objetivo)"
   ]
  },
  {
   "cell_type": "code",
   "execution_count": 20,
   "id": "8e6d015d",
   "metadata": {},
   "outputs": [],
   "source": [
    "# 1. Calcular el recorte necesario para emular DeepShadows\n",
    "def calculate_crop_size(img_width):\n",
    "    \"\"\"\n",
    "    Calcula el recorte necesario para obtener 30\"x30\"\n",
    "    basado en el pixscale original de 0.262\n",
    "    \"\"\"\n",
    "    total_arcsec = img_width * ORIGINAL_PIXSCALE\n",
    "    crop_pixels = int((total_arcsec - DEEP_SHADOWS_ANGULAR_SIZE) / ORIGINAL_PIXSCALE / 2)\n",
    "    return crop_pixels"
   ]
  },
  {
   "cell_type": "code",
   "execution_count": 21,
   "id": "0bbc8e18",
   "metadata": {},
   "outputs": [],
   "source": [
    "# 2. Función de procesamiento optimizada\n",
    "def process_image(filename):\n",
    "    try:\n",
    "        image_path = os.path.join(images_directory, filename)\n",
    "        img = Image.open(image_path)\n",
    "        width, height = img.size\n",
    "        \n",
    "        # Paso 1: Recortar para obtener 30\"x30\"\n",
    "        crop_size = calculate_crop_size(width)\n",
    "        img = img.crop((\n",
    "            crop_size, \n",
    "            crop_size, \n",
    "            width - crop_size, \n",
    "            height - crop_size\n",
    "        ))\n",
    "        \n",
    "        # Paso 2: Redimensionar a 64x64 (como en DeepShadows)\n",
    "        img = img.resize((64, 64), Image.LANCZOS)\n",
    "        \n",
    "        # Convertir a array y normalizar\n",
    "        img_array = np.array(img, dtype=np.float32) / 255.0\n",
    "        \n",
    "        return img_array\n",
    "    except Exception as e:\n",
    "        print(f\"Error procesando {filename}: {str(e)}\")\n",
    "        return None"
   ]
  },
  {
   "cell_type": "code",
   "execution_count": 22,
   "id": "42baa709",
   "metadata": {},
   "outputs": [],
   "source": [
    "# 3. Procesamiento por lotes (optimizado para memoria)\n",
    "def process_image_batch(batch_files):\n",
    "    \"\"\"Procesa un lote de imágenes\"\"\"\n",
    "    batch_arrays = []\n",
    "    for filename in batch_files:\n",
    "        arr = process_image(filename)\n",
    "        if arr is not None:\n",
    "            batch_arrays.append(arr)\n",
    "    return np.stack(batch_arrays) if batch_arrays else None"
   ]
  },
  {
   "cell_type": "code",
   "execution_count": 23,
   "id": "9e6b0163",
   "metadata": {},
   "outputs": [
    {
     "name": "stdout",
     "output_type": "stream",
     "text": [
      "Procesando 4983 imágenes...\n",
      "Parámetros: ORIGINAL_PIXSCALE=0.262, DEEP_SHADOWS_ANGULAR_SIZE=30\n"
     ]
    },
    {
     "name": "stderr",
     "output_type": "stream",
     "text": [
      "Procesando imágenes: 100%|███████████████████████████████████████████████████████████████████████████████████████████████████████████████████████████| 10/10 [03:17<00:00, 19.75s/batch]\n"
     ]
    }
   ],
   "source": [
    "# 4. Procesamiento principal\n",
    "image_files = [f for f in os.listdir(images_directory) \n",
    "              if f.lower().endswith(('.jpg', '.jpeg', '.png'))]\n",
    "\n",
    "print(f\"Procesando {len(image_files)} imágenes...\")\n",
    "print(f\"Parámetros: ORIGINAL_PIXSCALE={ORIGINAL_PIXSCALE}, DEEP_SHADOWS_ANGULAR_SIZE={DEEP_SHADOWS_ANGULAR_SIZE}\")\n",
    "\n",
    "# Procesar en lotes de 500 imágenes\n",
    "batch_size = 500\n",
    "full_array = None\n",
    "\n",
    "for i in tqdm(range(0, len(image_files), batch_size), \n",
    "             desc=\"Procesando imágenes\", \n",
    "             unit=\"batch\"):\n",
    "    \n",
    "    batch_files = image_files[i:i+batch_size]\n",
    "    batch_array = process_image_batch(batch_files)\n",
    "    \n",
    "    if batch_array is not None:\n",
    "        # Guardar lote temporal\n",
    "        batch_path = os.path.join(output_directory, f'temp_batch_{i//batch_size}.npy')\n",
    "        np.save(batch_path, batch_array)\n",
    "        \n",
    "        # Liberar memoria\n",
    "        del batch_array\n",
    "        gc.collect()"
   ]
  },
  {
   "cell_type": "code",
   "execution_count": 24,
   "id": "33b3d2d0",
   "metadata": {},
   "outputs": [
    {
     "name": "stdout",
     "output_type": "stream",
     "text": [
      "Combinando lotes...\n"
     ]
    },
    {
     "name": "stderr",
     "output_type": "stream",
     "text": [
      "Cargando lotes: 100%|██████████████████████████████████████████████████████████████████████████████████████████████████████████████████████████████████| 10/10 [00:00<00:00, 150.69it/s]\n"
     ]
    },
    {
     "name": "stdout",
     "output_type": "stream",
     "text": [
      "Array final guardado. Dimensiones: (4983, 64, 64, 3)\n"
     ]
    }
   ],
   "source": [
    "# 5. Combinar todos los lotes\n",
    "print(\"Combinando lotes...\")\n",
    "batch_files = [f for f in os.listdir(output_directory) if f.startswith('temp_batch_')]\n",
    "batch_files.sort(key=lambda x: int(x.split('_')[2].split('.')[0]))\n",
    "\n",
    "all_arrays = []\n",
    "for batch_file in tqdm(batch_files, desc=\"Cargando lotes\"):\n",
    "    batch_path = os.path.join(output_directory, batch_file)\n",
    "    all_arrays.append(np.load(batch_path))\n",
    "    os.remove(batch_path)  # Eliminar temporal\n",
    "\n",
    "full_array = np.concatenate(all_arrays, axis=0)\n",
    "np.save(os.path.join(output_directory, 'X_test.npy'), full_array)\n",
    "print(f\"Array final guardado. Dimensiones: {full_array.shape}\")"
   ]
  },
  {
   "cell_type": "code",
   "execution_count": 8,
   "id": "26e5c217",
   "metadata": {},
   "outputs": [],
   "source": []
  },
  {
   "cell_type": "code",
   "execution_count": null,
   "id": "033ff301",
   "metadata": {},
   "outputs": [],
   "source": []
  }
 ],
 "metadata": {
  "kernelspec": {
   "display_name": "Python 3 (ipykernel)",
   "language": "python",
   "name": "python3"
  },
  "language_info": {
   "codemirror_mode": {
    "name": "ipython",
    "version": 3
   },
   "file_extension": ".py",
   "mimetype": "text/x-python",
   "name": "python",
   "nbconvert_exporter": "python",
   "pygments_lexer": "ipython3",
   "version": "3.12.9"
  }
 },
 "nbformat": 4,
 "nbformat_minor": 5
}
